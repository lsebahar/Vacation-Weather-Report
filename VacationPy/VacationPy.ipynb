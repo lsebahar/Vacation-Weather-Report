{
 "cells": [
  {
   "cell_type": "markdown",
   "metadata": {},
   "source": [
    "# VacationPy\n",
    "----\n",
    "\n",
    "#### Note\n",
    "* Instructions have been included for each segment. You do not have to follow them exactly, but they are included to help you think through the steps."
   ]
  },
  {
   "cell_type": "code",
   "execution_count": 1,
   "metadata": {},
   "outputs": [],
   "source": [
    "# Dependencies and Setup\n",
    "import matplotlib.pyplot as plt\n",
    "import pandas as pd\n",
    "import numpy as np\n",
    "import requests\n",
    "from pprint import pprint\n",
    "import gmaps\n",
    "import os\n",
    "\n",
    "# Import API key\n",
    "from config import g_key\n"
   ]
  },
  {
   "cell_type": "markdown",
   "metadata": {},
   "source": [
    "### Store Part I results into DataFrame\n",
    "* Load the csv exported in Part I to a DataFrame"
   ]
  },
  {
   "cell_type": "code",
   "execution_count": 2,
   "metadata": {},
   "outputs": [
    {
     "data": {
      "text/html": [
       "<div>\n",
       "<style scoped>\n",
       "    .dataframe tbody tr th:only-of-type {\n",
       "        vertical-align: middle;\n",
       "    }\n",
       "\n",
       "    .dataframe tbody tr th {\n",
       "        vertical-align: top;\n",
       "    }\n",
       "\n",
       "    .dataframe thead th {\n",
       "        text-align: right;\n",
       "    }\n",
       "</style>\n",
       "<table border=\"1\" class=\"dataframe\">\n",
       "  <thead>\n",
       "    <tr style=\"text-align: right;\">\n",
       "      <th></th>\n",
       "      <th>City</th>\n",
       "      <th>Cloudiness</th>\n",
       "      <th>Country</th>\n",
       "      <th>Date</th>\n",
       "      <th>Humidity</th>\n",
       "      <th>Lat</th>\n",
       "      <th>Lng</th>\n",
       "      <th>Max Temp</th>\n",
       "      <th>Wind Speed</th>\n",
       "    </tr>\n",
       "  </thead>\n",
       "  <tbody>\n",
       "    <tr>\n",
       "      <th>0</th>\n",
       "      <td>New Norfolk</td>\n",
       "      <td>75</td>\n",
       "      <td>AU</td>\n",
       "      <td>1584487459</td>\n",
       "      <td>49</td>\n",
       "      <td>-42.78</td>\n",
       "      <td>147.06</td>\n",
       "      <td>71.01</td>\n",
       "      <td>10.29</td>\n",
       "    </tr>\n",
       "    <tr>\n",
       "      <th>1</th>\n",
       "      <td>Atuona</td>\n",
       "      <td>1</td>\n",
       "      <td>PF</td>\n",
       "      <td>1584487323</td>\n",
       "      <td>73</td>\n",
       "      <td>-9.80</td>\n",
       "      <td>-139.03</td>\n",
       "      <td>82.94</td>\n",
       "      <td>10.04</td>\n",
       "    </tr>\n",
       "    <tr>\n",
       "      <th>2</th>\n",
       "      <td>Brownwood</td>\n",
       "      <td>90</td>\n",
       "      <td>US</td>\n",
       "      <td>1584487460</td>\n",
       "      <td>64</td>\n",
       "      <td>31.71</td>\n",
       "      <td>-98.99</td>\n",
       "      <td>75.20</td>\n",
       "      <td>9.17</td>\n",
       "    </tr>\n",
       "    <tr>\n",
       "      <th>3</th>\n",
       "      <td>Butaritari</td>\n",
       "      <td>0</td>\n",
       "      <td>KI</td>\n",
       "      <td>1584487049</td>\n",
       "      <td>75</td>\n",
       "      <td>3.07</td>\n",
       "      <td>172.79</td>\n",
       "      <td>83.35</td>\n",
       "      <td>12.68</td>\n",
       "    </tr>\n",
       "    <tr>\n",
       "      <th>4</th>\n",
       "      <td>Upata</td>\n",
       "      <td>90</td>\n",
       "      <td>VE</td>\n",
       "      <td>1584487460</td>\n",
       "      <td>66</td>\n",
       "      <td>8.01</td>\n",
       "      <td>-62.40</td>\n",
       "      <td>77.54</td>\n",
       "      <td>6.64</td>\n",
       "    </tr>\n",
       "  </tbody>\n",
       "</table>\n",
       "</div>"
      ],
      "text/plain": [
       "          City  Cloudiness Country        Date  Humidity    Lat     Lng  \\\n",
       "0  New Norfolk          75      AU  1584487459        49 -42.78  147.06   \n",
       "1       Atuona           1      PF  1584487323        73  -9.80 -139.03   \n",
       "2    Brownwood          90      US  1584487460        64  31.71  -98.99   \n",
       "3   Butaritari           0      KI  1584487049        75   3.07  172.79   \n",
       "4        Upata          90      VE  1584487460        66   8.01  -62.40   \n",
       "\n",
       "   Max Temp  Wind Speed  \n",
       "0     71.01       10.29  \n",
       "1     82.94       10.04  \n",
       "2     75.20        9.17  \n",
       "3     83.35       12.68  \n",
       "4     77.54        6.64  "
      ]
     },
     "execution_count": 2,
     "metadata": {},
     "output_type": "execute_result"
    }
   ],
   "source": [
    "base_df = pd.read_csv('../WeatherPy/city_weather_data.csv',index_col=0)\n",
    "base_df.head()"
   ]
  },
  {
   "cell_type": "markdown",
   "metadata": {},
   "source": [
    "### Humidity Heatmap\n",
    "* Configure gmaps.\n",
    "* Use the Lat and Lng as locations and Humidity as the weight.\n",
    "* Add Heatmap layer to map."
   ]
  },
  {
   "cell_type": "code",
   "execution_count": 3,
   "metadata": {},
   "outputs": [],
   "source": [
    "gmaps.configure(api_key=g_key)"
   ]
  },
  {
   "cell_type": "code",
   "execution_count": 4,
   "metadata": {},
   "outputs": [],
   "source": [
    "base_df = base_df.dropna()\n",
    "locations = base_df[[\"Lat\", \"Lng\"]].astype(float)\n",
    "humidity = base_df[\"Humidity\"].astype(float)"
   ]
  },
  {
   "cell_type": "code",
   "execution_count": 5,
   "metadata": {},
   "outputs": [
    {
     "data": {
      "application/vnd.jupyter.widget-view+json": {
       "model_id": "46027ceef7554efc9617938b5e6ea1d8",
       "version_major": 2,
       "version_minor": 0
      },
      "text/plain": [
       "Figure(layout=FigureLayout(height='420px'))"
      ]
     },
     "metadata": {},
     "output_type": "display_data"
    }
   ],
   "source": [
    "fig = gmaps.figure()\n",
    "heat_layer = gmaps.heatmap_layer(locations, weights=humidity, \n",
    "                                 dissipating=False, max_intensity=100,\n",
    "                                 point_radius = 3)\n",
    "fig.add_layer(heat_layer)\n",
    "fig"
   ]
  },
  {
   "cell_type": "markdown",
   "metadata": {},
   "source": [
    "### Create new DataFrame fitting weather criteria\n",
    "* Narrow down the cities to fit weather conditions.\n",
    "* Drop any rows will null values."
   ]
  },
  {
   "cell_type": "code",
   "execution_count": 6,
   "metadata": {},
   "outputs": [],
   "source": [
    "ideal_df = base_df.loc[base_df['Cloudiness'] < 10]\n",
    "ideal_df = ideal_df.loc[ideal_df['Humidity'] < 40]\n",
    "ideal_df = ideal_df.loc[ideal_df['Max Temp'] < 85]\n",
    "ideal_df = ideal_df.loc[ideal_df['Max Temp'] > 50]\n",
    "ideal_df = ideal_df.loc[ideal_df['Wind Speed'] < 10]"
   ]
  },
  {
   "cell_type": "code",
   "execution_count": 7,
   "metadata": {},
   "outputs": [
    {
     "data": {
      "text/html": [
       "<div>\n",
       "<style scoped>\n",
       "    .dataframe tbody tr th:only-of-type {\n",
       "        vertical-align: middle;\n",
       "    }\n",
       "\n",
       "    .dataframe tbody tr th {\n",
       "        vertical-align: top;\n",
       "    }\n",
       "\n",
       "    .dataframe thead th {\n",
       "        text-align: right;\n",
       "    }\n",
       "</style>\n",
       "<table border=\"1\" class=\"dataframe\">\n",
       "  <thead>\n",
       "    <tr style=\"text-align: right;\">\n",
       "      <th></th>\n",
       "      <th>City</th>\n",
       "      <th>Cloudiness</th>\n",
       "      <th>Country</th>\n",
       "      <th>Date</th>\n",
       "      <th>Humidity</th>\n",
       "      <th>Lat</th>\n",
       "      <th>Lng</th>\n",
       "      <th>Max Temp</th>\n",
       "      <th>Wind Speed</th>\n",
       "    </tr>\n",
       "  </thead>\n",
       "  <tbody>\n",
       "    <tr>\n",
       "      <th>142</th>\n",
       "      <td>Portland</td>\n",
       "      <td>1</td>\n",
       "      <td>US</td>\n",
       "      <td>1584487197</td>\n",
       "      <td>29</td>\n",
       "      <td>45.52</td>\n",
       "      <td>-122.68</td>\n",
       "      <td>62.01</td>\n",
       "      <td>9.17</td>\n",
       "    </tr>\n",
       "    <tr>\n",
       "      <th>220</th>\n",
       "      <td>Malakal</td>\n",
       "      <td>8</td>\n",
       "      <td>SS</td>\n",
       "      <td>1584487512</td>\n",
       "      <td>14</td>\n",
       "      <td>9.53</td>\n",
       "      <td>31.66</td>\n",
       "      <td>81.21</td>\n",
       "      <td>9.31</td>\n",
       "    </tr>\n",
       "    <tr>\n",
       "      <th>457</th>\n",
       "      <td>Merta</td>\n",
       "      <td>8</td>\n",
       "      <td>IN</td>\n",
       "      <td>1584487567</td>\n",
       "      <td>36</td>\n",
       "      <td>26.65</td>\n",
       "      <td>74.03</td>\n",
       "      <td>66.61</td>\n",
       "      <td>6.96</td>\n",
       "    </tr>\n",
       "    <tr>\n",
       "      <th>491</th>\n",
       "      <td>Coihueco</td>\n",
       "      <td>0</td>\n",
       "      <td>CL</td>\n",
       "      <td>1584487574</td>\n",
       "      <td>33</td>\n",
       "      <td>-36.62</td>\n",
       "      <td>-71.83</td>\n",
       "      <td>75.20</td>\n",
       "      <td>8.05</td>\n",
       "    </tr>\n",
       "  </tbody>\n",
       "</table>\n",
       "</div>"
      ],
      "text/plain": [
       "         City  Cloudiness Country        Date  Humidity    Lat     Lng  \\\n",
       "142  Portland           1      US  1584487197        29  45.52 -122.68   \n",
       "220   Malakal           8      SS  1584487512        14   9.53   31.66   \n",
       "457     Merta           8      IN  1584487567        36  26.65   74.03   \n",
       "491  Coihueco           0      CL  1584487574        33 -36.62  -71.83   \n",
       "\n",
       "     Max Temp  Wind Speed  \n",
       "142     62.01        9.17  \n",
       "220     81.21        9.31  \n",
       "457     66.61        6.96  \n",
       "491     75.20        8.05  "
      ]
     },
     "execution_count": 7,
     "metadata": {},
     "output_type": "execute_result"
    }
   ],
   "source": [
    "ideal_df.head()"
   ]
  },
  {
   "cell_type": "markdown",
   "metadata": {},
   "source": [
    "### Hotel Map\n",
    "* Store into variable named `hotel_df`.\n",
    "* Add a \"Hotel Name\" column to the DataFrame.\n",
    "* Set parameters to search for hotels with 5000 meters.\n",
    "* Hit the Google Places API for each city's coordinates.\n",
    "* Store the first Hotel result into the DataFrame.\n",
    "* Plot markers on top of the heatmap."
   ]
  },
  {
   "cell_type": "code",
   "execution_count": 8,
   "metadata": {},
   "outputs": [
    {
     "data": {
      "text/html": [
       "<div>\n",
       "<style scoped>\n",
       "    .dataframe tbody tr th:only-of-type {\n",
       "        vertical-align: middle;\n",
       "    }\n",
       "\n",
       "    .dataframe tbody tr th {\n",
       "        vertical-align: top;\n",
       "    }\n",
       "\n",
       "    .dataframe thead th {\n",
       "        text-align: right;\n",
       "    }\n",
       "</style>\n",
       "<table border=\"1\" class=\"dataframe\">\n",
       "  <thead>\n",
       "    <tr style=\"text-align: right;\">\n",
       "      <th></th>\n",
       "      <th>City</th>\n",
       "      <th>Cloudiness</th>\n",
       "      <th>Country</th>\n",
       "      <th>Date</th>\n",
       "      <th>Humidity</th>\n",
       "      <th>Lat</th>\n",
       "      <th>Lng</th>\n",
       "      <th>Max Temp</th>\n",
       "      <th>Wind Speed</th>\n",
       "      <th>Hotel Name</th>\n",
       "    </tr>\n",
       "  </thead>\n",
       "  <tbody>\n",
       "    <tr>\n",
       "      <th>0</th>\n",
       "      <td>Portland</td>\n",
       "      <td>1</td>\n",
       "      <td>US</td>\n",
       "      <td>1584487197</td>\n",
       "      <td>29</td>\n",
       "      <td>45.52</td>\n",
       "      <td>-122.68</td>\n",
       "      <td>62.01</td>\n",
       "      <td>9.17</td>\n",
       "      <td></td>\n",
       "    </tr>\n",
       "    <tr>\n",
       "      <th>1</th>\n",
       "      <td>Malakal</td>\n",
       "      <td>8</td>\n",
       "      <td>SS</td>\n",
       "      <td>1584487512</td>\n",
       "      <td>14</td>\n",
       "      <td>9.53</td>\n",
       "      <td>31.66</td>\n",
       "      <td>81.21</td>\n",
       "      <td>9.31</td>\n",
       "      <td></td>\n",
       "    </tr>\n",
       "    <tr>\n",
       "      <th>2</th>\n",
       "      <td>Merta</td>\n",
       "      <td>8</td>\n",
       "      <td>IN</td>\n",
       "      <td>1584487567</td>\n",
       "      <td>36</td>\n",
       "      <td>26.65</td>\n",
       "      <td>74.03</td>\n",
       "      <td>66.61</td>\n",
       "      <td>6.96</td>\n",
       "      <td></td>\n",
       "    </tr>\n",
       "    <tr>\n",
       "      <th>3</th>\n",
       "      <td>Coihueco</td>\n",
       "      <td>0</td>\n",
       "      <td>CL</td>\n",
       "      <td>1584487574</td>\n",
       "      <td>33</td>\n",
       "      <td>-36.62</td>\n",
       "      <td>-71.83</td>\n",
       "      <td>75.20</td>\n",
       "      <td>8.05</td>\n",
       "      <td></td>\n",
       "    </tr>\n",
       "  </tbody>\n",
       "</table>\n",
       "</div>"
      ],
      "text/plain": [
       "       City  Cloudiness Country        Date  Humidity    Lat     Lng  \\\n",
       "0  Portland           1      US  1584487197        29  45.52 -122.68   \n",
       "1   Malakal           8      SS  1584487512        14   9.53   31.66   \n",
       "2     Merta           8      IN  1584487567        36  26.65   74.03   \n",
       "3  Coihueco           0      CL  1584487574        33 -36.62  -71.83   \n",
       "\n",
       "   Max Temp  Wind Speed Hotel Name  \n",
       "0     62.01        9.17             \n",
       "1     81.21        9.31             \n",
       "2     66.61        6.96             \n",
       "3     75.20        8.05             "
      ]
     },
     "execution_count": 8,
     "metadata": {},
     "output_type": "execute_result"
    }
   ],
   "source": [
    "hotel_df = ideal_df\n",
    "hotel_df['Hotel Name'] = \"\"\n",
    "hotel_df.reset_index(inplace = True, drop = True)\n",
    "hotel_df.head()"
   ]
  },
  {
   "cell_type": "code",
   "execution_count": 9,
   "metadata": {},
   "outputs": [],
   "source": [
    "target_coordinates = \",\"\n",
    "\n",
    "params = {\"location\": target_coordinates,\n",
    "    \"radius\": 5000,\n",
    "    \"type\": 'lodging',\n",
    "    \"key\": g_key}\n",
    "\n",
    "base_url = \"https://maps.googleapis.com/maps/api/place/nearbysearch/json\""
   ]
  },
  {
   "cell_type": "code",
   "execution_count": 10,
   "metadata": {},
   "outputs": [
    {
     "name": "stdout",
     "output_type": "stream",
     "text": [
      "'Portland Marriott City Center'\n"
     ]
    }
   ],
   "source": [
    "params['location']= f\"{hotel_df['Lat'][0]},{hotel_df['Lng'][0]}\"\n",
    "response = requests.get(base_url,params=params).json()\n",
    "pprint(response['results'][0]['name'])"
   ]
  },
  {
   "cell_type": "code",
   "execution_count": 11,
   "metadata": {},
   "outputs": [],
   "source": [
    "hotels = []\n",
    "for x in range(len(hotel_df[\"City\"])):\n",
    "    params['location']= f\"{hotel_df['Lat'][x]},{hotel_df['Lng'][x]}\"\n",
    "    response = requests.get(base_url,params=params).json()\n",
    "    hotels.append(response['results'][0]['name'])\n",
    "hotel_df[\"Hotel Name\"] = hotels"
   ]
  },
  {
   "cell_type": "code",
   "execution_count": 12,
   "metadata": {},
   "outputs": [
    {
     "data": {
      "text/html": [
       "<div>\n",
       "<style scoped>\n",
       "    .dataframe tbody tr th:only-of-type {\n",
       "        vertical-align: middle;\n",
       "    }\n",
       "\n",
       "    .dataframe tbody tr th {\n",
       "        vertical-align: top;\n",
       "    }\n",
       "\n",
       "    .dataframe thead th {\n",
       "        text-align: right;\n",
       "    }\n",
       "</style>\n",
       "<table border=\"1\" class=\"dataframe\">\n",
       "  <thead>\n",
       "    <tr style=\"text-align: right;\">\n",
       "      <th></th>\n",
       "      <th>City</th>\n",
       "      <th>Cloudiness</th>\n",
       "      <th>Country</th>\n",
       "      <th>Date</th>\n",
       "      <th>Humidity</th>\n",
       "      <th>Lat</th>\n",
       "      <th>Lng</th>\n",
       "      <th>Max Temp</th>\n",
       "      <th>Wind Speed</th>\n",
       "      <th>Hotel Name</th>\n",
       "    </tr>\n",
       "  </thead>\n",
       "  <tbody>\n",
       "    <tr>\n",
       "      <th>0</th>\n",
       "      <td>Portland</td>\n",
       "      <td>1</td>\n",
       "      <td>US</td>\n",
       "      <td>1584487197</td>\n",
       "      <td>29</td>\n",
       "      <td>45.52</td>\n",
       "      <td>-122.68</td>\n",
       "      <td>62.01</td>\n",
       "      <td>9.17</td>\n",
       "      <td>Portland Marriott City Center</td>\n",
       "    </tr>\n",
       "    <tr>\n",
       "      <th>1</th>\n",
       "      <td>Malakal</td>\n",
       "      <td>8</td>\n",
       "      <td>SS</td>\n",
       "      <td>1584487512</td>\n",
       "      <td>14</td>\n",
       "      <td>9.53</td>\n",
       "      <td>31.66</td>\n",
       "      <td>81.21</td>\n",
       "      <td>9.31</td>\n",
       "      <td>Nile Palace Hotel</td>\n",
       "    </tr>\n",
       "    <tr>\n",
       "      <th>2</th>\n",
       "      <td>Merta</td>\n",
       "      <td>8</td>\n",
       "      <td>IN</td>\n",
       "      <td>1584487567</td>\n",
       "      <td>36</td>\n",
       "      <td>26.65</td>\n",
       "      <td>74.03</td>\n",
       "      <td>66.61</td>\n",
       "      <td>6.96</td>\n",
       "      <td>V Resorts Ganthiya</td>\n",
       "    </tr>\n",
       "    <tr>\n",
       "      <th>3</th>\n",
       "      <td>Coihueco</td>\n",
       "      <td>0</td>\n",
       "      <td>CL</td>\n",
       "      <td>1584487574</td>\n",
       "      <td>33</td>\n",
       "      <td>-36.62</td>\n",
       "      <td>-71.83</td>\n",
       "      <td>75.20</td>\n",
       "      <td>8.05</td>\n",
       "      <td>Frutillares Coihueco</td>\n",
       "    </tr>\n",
       "  </tbody>\n",
       "</table>\n",
       "</div>"
      ],
      "text/plain": [
       "       City  Cloudiness Country        Date  Humidity    Lat     Lng  \\\n",
       "0  Portland           1      US  1584487197        29  45.52 -122.68   \n",
       "1   Malakal           8      SS  1584487512        14   9.53   31.66   \n",
       "2     Merta           8      IN  1584487567        36  26.65   74.03   \n",
       "3  Coihueco           0      CL  1584487574        33 -36.62  -71.83   \n",
       "\n",
       "   Max Temp  Wind Speed                     Hotel Name  \n",
       "0     62.01        9.17  Portland Marriott City Center  \n",
       "1     81.21        9.31              Nile Palace Hotel  \n",
       "2     66.61        6.96             V Resorts Ganthiya  \n",
       "3     75.20        8.05           Frutillares Coihueco  "
      ]
     },
     "execution_count": 12,
     "metadata": {},
     "output_type": "execute_result"
    }
   ],
   "source": [
    "hotel_df.head()"
   ]
  },
  {
   "cell_type": "code",
   "execution_count": null,
   "metadata": {},
   "outputs": [],
   "source": []
  },
  {
   "cell_type": "code",
   "execution_count": 13,
   "metadata": {},
   "outputs": [],
   "source": [
    "# NOTE: Do not change any of the code in this cell\n",
    "\n",
    "# Using the template add the hotel marks to the heatmap\n",
    "info_box_template = \"\"\"\n",
    "<dl>\n",
    "<dt>Name</dt><dd>{Hotel Name}</dd>\n",
    "<dt>City</dt><dd>{City}</dd>\n",
    "<dt>Country</dt><dd>{Country}</dd>\n",
    "</dl>\n",
    "\"\"\"\n",
    "# Store the DataFrame Row\n",
    "# NOTE: be sure to update with your DataFrame name\n",
    "hotel_info = [info_box_template.format(**row) for index, row in hotel_df.iterrows()]\n",
    "locations = hotel_df[[\"Lat\", \"Lng\"]]"
   ]
  },
  {
   "cell_type": "code",
   "execution_count": 14,
   "metadata": {},
   "outputs": [
    {
     "data": {
      "application/vnd.jupyter.widget-view+json": {
       "model_id": "46027ceef7554efc9617938b5e6ea1d8",
       "version_major": 2,
       "version_minor": 0
      },
      "text/plain": [
       "Figure(layout=FigureLayout(height='420px'))"
      ]
     },
     "metadata": {},
     "output_type": "display_data"
    }
   ],
   "source": [
    "# Add marker layer ontop of heat map\n",
    "marker_layer = gmaps.marker_layer(locations, info_box_content=hotel_info)\n",
    "fig.add_layer(marker_layer)\n",
    "# Display Map\n",
    "fig"
   ]
  },
  {
   "cell_type": "code",
   "execution_count": null,
   "metadata": {},
   "outputs": [],
   "source": []
  }
 ],
 "metadata": {
  "kernelspec": {
   "display_name": "PythonData",
   "language": "python",
   "name": "pythondata"
  },
  "language_info": {
   "codemirror_mode": {
    "name": "ipython",
    "version": 3
   },
   "file_extension": ".py",
   "mimetype": "text/x-python",
   "name": "python",
   "nbconvert_exporter": "python",
   "pygments_lexer": "ipython3",
   "version": "3.7.6"
  },
  "latex_envs": {
   "LaTeX_envs_menu_present": true,
   "autoclose": false,
   "autocomplete": true,
   "bibliofile": "biblio.bib",
   "cite_by": "apalike",
   "current_citInitial": 1,
   "eqLabelWithNumbers": true,
   "eqNumInitial": 1,
   "hotkeys": {
    "equation": "Ctrl-E",
    "itemize": "Ctrl-I"
   },
   "labels_anchors": false,
   "latex_user_defs": false,
   "report_style_numbering": false,
   "user_envs_cfg": false
  }
 },
 "nbformat": 4,
 "nbformat_minor": 2
}
